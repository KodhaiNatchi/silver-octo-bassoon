{
  "nbformat": 4,
  "nbformat_minor": 0,
  "metadata": {
    "kernelspec": {
      "display_name": "Python 3",
      "language": "python",
      "name": "python3"
    },
    "language_info": {
      "codemirror_mode": {
        "name": "ipython",
        "version": 3
      },
      "file_extension": ".py",
      "mimetype": "text/x-python",
      "name": "python",
      "nbconvert_exporter": "python",
      "pygments_lexer": "ipython3",
      "version": "3.6.10"
    },
    "colab": {
      "name": "L3 - Python Basics.ipynb",
      "provenance": [],
      "include_colab_link": true
    }
  },
  "cells": [
    {
      "cell_type": "markdown",
      "metadata": {
        "id": "view-in-github",
        "colab_type": "text"
      },
      "source": [
        "<a href=\"https://colab.research.google.com/github/KodhaiNatchi/silver-octo-bassoon/blob/main/L3_Python_Basics.ipynb\" target=\"_parent\"><img src=\"https://colab.research.google.com/assets/colab-badge.svg\" alt=\"Open In Colab\"/></a>"
      ]
    },
    {
      "cell_type": "markdown",
      "metadata": {
        "id": "FibcONxuWBMU"
      },
      "source": [
        "# Function Example"
      ]
    },
    {
      "cell_type": "code",
      "metadata": {
        "id": "DnxE2adKWBMn"
      },
      "source": [
        "# Basic function\n",
        "def greet():\n",
        "    \"\"\"\n",
        "    This function prints \n",
        "    the greeting message\n",
        "    \"\"\"\n",
        "    print(\"Hello\")"
      ],
      "execution_count": null,
      "outputs": []
    },
    {
      "cell_type": "code",
      "metadata": {
        "id": "SdmUZSWcWBMq",
        "outputId": "d537ae39-c908-4fdd-bedb-8243b1eaf9b3"
      },
      "source": [
        "# How to call the function\n",
        "greet()"
      ],
      "execution_count": null,
      "outputs": [
        {
          "output_type": "stream",
          "text": [
            "Hello\n"
          ],
          "name": "stdout"
        }
      ]
    },
    {
      "cell_type": "markdown",
      "metadata": {
        "id": "TgkqGFIkWBMu"
      },
      "source": [
        "# Function with Parameters Example"
      ]
    },
    {
      "cell_type": "code",
      "metadata": {
        "id": "lOwcCQTAWBMv"
      },
      "source": [
        "# Function with Parameters\n",
        "\n",
        "def greet(name):\n",
        "    \"\"\"\n",
        "    This function greets to \n",
        "    the person passed in as a parameter\n",
        "    \"\"\"\n",
        "    print(\"Hello\",name)"
      ],
      "execution_count": null,
      "outputs": []
    },
    {
      "cell_type": "code",
      "metadata": {
        "id": "bLLzdv76WBMw",
        "outputId": "d2801e31-b6bf-43f3-a483-0fc598342c40"
      },
      "source": [
        "# Calling the function with Parameter\n",
        "greet(\"Abhishek\")"
      ],
      "execution_count": null,
      "outputs": [
        {
          "output_type": "stream",
          "text": [
            "Hello Abhishek\n"
          ],
          "name": "stdout"
        }
      ]
    },
    {
      "cell_type": "code",
      "metadata": {
        "id": "HKQphSbjWBMx",
        "outputId": "2a06263e-088b-4d5b-c081-c02d628e0ce4"
      },
      "source": [
        "# Calling the function with Parameter\n",
        "greet(\"Everyone\")"
      ],
      "execution_count": null,
      "outputs": [
        {
          "output_type": "stream",
          "text": [
            "Hello Everyone\n"
          ],
          "name": "stdout"
        }
      ]
    },
    {
      "cell_type": "code",
      "metadata": {
        "id": "2LJLw-JcWBMy"
      },
      "source": [
        "# Always call function with exact number of arguments or we will get the Error\n",
        "\n",
        "def greet(name,greeting):\n",
        "    \"\"\"\n",
        "    This function takes name & greetings\n",
        "    and prints the same.\n",
        "    \n",
        "    This function accepts 3 paramerer wopp\n",
        "    a will ace\n",
        "    \"\"\"\n",
        "    print(\"{}, {}\".format(greeting,name))"
      ],
      "execution_count": null,
      "outputs": []
    },
    {
      "cell_type": "code",
      "metadata": {
        "id": "kCMyVigQWBMy",
        "outputId": "82339503-36f8-4c18-c3c9-c79789f089d4"
      },
      "source": [
        "greet(name=\"Everyone\",greeting=\"Good Evening\")"
      ],
      "execution_count": null,
      "outputs": [
        {
          "output_type": "stream",
          "text": [
            "Good Evening, Everyone\n"
          ],
          "name": "stdout"
        }
      ]
    },
    {
      "cell_type": "code",
      "metadata": {
        "id": "nXzAVlrzWBMz",
        "outputId": "0d6f9496-5870-44b2-c237-ced06f1693f5"
      },
      "source": [
        "greet(\"Subhash\",\"Hello\")"
      ],
      "execution_count": null,
      "outputs": [
        {
          "output_type": "stream",
          "text": [
            "Hello, Subhash\n"
          ],
          "name": "stdout"
        }
      ]
    },
    {
      "cell_type": "code",
      "metadata": {
        "id": "hj0AXTDjWBM0",
        "outputId": "03cec3b1-f033-478a-d7b8-6398af547900"
      },
      "source": [
        "greet(\"Everyone\")"
      ],
      "execution_count": null,
      "outputs": [
        {
          "output_type": "error",
          "ename": "TypeError",
          "evalue": "greet() missing 1 required positional argument: 'greeting'",
          "traceback": [
            "\u001b[1;31m---------------------------------------------------------------------------\u001b[0m",
            "\u001b[1;31mTypeError\u001b[0m                                 Traceback (most recent call last)",
            "\u001b[1;32m<ipython-input-9-6f36074d4d29>\u001b[0m in \u001b[0;36m<module>\u001b[1;34m\u001b[0m\n\u001b[1;32m----> 1\u001b[1;33m \u001b[0mgreet\u001b[0m\u001b[1;33m(\u001b[0m\u001b[1;34m\"Everyone\"\u001b[0m\u001b[1;33m)\u001b[0m\u001b[1;33m\u001b[0m\u001b[1;33m\u001b[0m\u001b[0m\n\u001b[0m",
            "\u001b[1;31mTypeError\u001b[0m: greet() missing 1 required positional argument: 'greeting'"
          ]
        }
      ]
    },
    {
      "cell_type": "markdown",
      "metadata": {
        "id": "hGggPjYFWBM1"
      },
      "source": [
        "# Function with Default Parameters Example"
      ]
    },
    {
      "cell_type": "code",
      "metadata": {
        "id": "0zxGPuy2WBM1"
      },
      "source": [
        "# Function with default Parameters\n",
        "\n",
        "def greet(name, greeting=\"Hello\"):\n",
        "    print(\"{}, {}\".format(greeting,name))"
      ],
      "execution_count": null,
      "outputs": []
    },
    {
      "cell_type": "code",
      "metadata": {
        "id": "F58Me-tpWBM2",
        "outputId": "ba63827b-6cb1-4a97-f0cf-958cda9914ae"
      },
      "source": [
        "greet(\"Punit\")\n",
        "greet(\"Everyone\",\"Good Morning\")"
      ],
      "execution_count": null,
      "outputs": [
        {
          "output_type": "stream",
          "text": [
            "Hello, Punit\n",
            "Good Morning, Everyone\n"
          ],
          "name": "stdout"
        }
      ]
    },
    {
      "cell_type": "code",
      "metadata": {
        "id": "OncjQrIIWBM2",
        "outputId": "b1bf3527-066f-419f-9454-3918a75d8afc"
      },
      "source": [
        "# Another Example\n",
        "\n",
        "def my_function(country = \"India\"):\n",
        "    print(\"I am from \" + country)\n",
        "\n",
        "my_function(\"Sweden\")\n",
        "my_function()\n",
        "my_function(\"Brazil\")"
      ],
      "execution_count": null,
      "outputs": [
        {
          "output_type": "stream",
          "text": [
            "I am from Sweden\n",
            "I am from India\n",
            "I am from Brazil\n"
          ],
          "name": "stdout"
        }
      ]
    },
    {
      "cell_type": "markdown",
      "metadata": {
        "id": "9JHXl1dXWBM3"
      },
      "source": [
        "# Passing other DataStructures as Parameter Example"
      ]
    },
    {
      "cell_type": "code",
      "metadata": {
        "id": "zWmbg851WBM4",
        "outputId": "0078e942-e900-4776-e219-6cd693b51aa4"
      },
      "source": [
        "# You can send any data types of argument to a function (string, number, list, dictionary etc.), \n",
        "#and it will be treated as the same data type inside the function.\n",
        "\n",
        "\n",
        "def print_numbers(nums):\n",
        "    \"\"\"\n",
        "    This function takes list of numbers and Prints it\n",
        "    \"\"\"\n",
        "    for i in nums:\n",
        "        print(i)\n",
        "\n",
        "\n",
        "# List of numbers        \n",
        "lst = range(10)\n",
        "print(type(lst))\n",
        "print_numbers(lst)"
      ],
      "execution_count": null,
      "outputs": [
        {
          "output_type": "stream",
          "text": [
            "<class 'range'>\n",
            "0\n",
            "1\n",
            "2\n",
            "3\n",
            "4\n",
            "5\n",
            "6\n",
            "7\n",
            "8\n",
            "9\n"
          ],
          "name": "stdout"
        }
      ]
    },
    {
      "cell_type": "code",
      "metadata": {
        "id": "avTSXwppWBM4"
      },
      "source": [
        ""
      ],
      "execution_count": null,
      "outputs": []
    },
    {
      "cell_type": "code",
      "metadata": {
        "id": "SEEn4GDAWBM5"
      },
      "source": [
        ""
      ],
      "execution_count": null,
      "outputs": []
    },
    {
      "cell_type": "code",
      "metadata": {
        "id": "qGMCGGD8WBM5"
      },
      "source": [
        ""
      ],
      "execution_count": null,
      "outputs": []
    },
    {
      "cell_type": "code",
      "metadata": {
        "id": "8aIAzYdZWBM5",
        "outputId": "7904c413-c387-411a-b2aa-52333e2558d7"
      },
      "source": [
        "# List of fruits\n",
        "lst = [\"apple\", \"banana\", \"cherry\"]\n",
        "print(type(lst))\n",
        "temp = print_numbers(lst)"
      ],
      "execution_count": null,
      "outputs": [
        {
          "output_type": "stream",
          "text": [
            "<class 'list'>\n",
            "apple\n",
            "banana\n",
            "cherry\n"
          ],
          "name": "stdout"
        }
      ]
    },
    {
      "cell_type": "code",
      "metadata": {
        "id": "mtQPQk8OWBM6"
      },
      "source": [
        ""
      ],
      "execution_count": null,
      "outputs": []
    },
    {
      "cell_type": "markdown",
      "metadata": {
        "id": "ieTtW0dXWBM6"
      },
      "source": [
        "# The return statement"
      ]
    },
    {
      "cell_type": "markdown",
      "metadata": {
        "id": "3EUgRFbeWBM7"
      },
      "source": [
        "## The return statement is used to exit a function and go back to the place from where it was called.\n",
        "\n",
        "## Syntax is return [expression_list]"
      ]
    },
    {
      "cell_type": "code",
      "metadata": {
        "id": "gMwFFbOnWBM7"
      },
      "source": [
        "# Simple Example\n",
        "\n",
        "def sum_two_numbers(a, b,c,d,e,f):\n",
        "    return a + b + c + d + e + f"
      ],
      "execution_count": null,
      "outputs": []
    },
    {
      "cell_type": "code",
      "metadata": {
        "id": "GDjuQ3IgWBM7",
        "outputId": "77a24326-7d39-4cb1-9b12-ca4241b9107c"
      },
      "source": [
        "sum_two_numbers(100,200)"
      ],
      "execution_count": null,
      "outputs": [
        {
          "output_type": "stream",
          "text": [
            "300\n"
          ],
          "name": "stdout"
        }
      ]
    },
    {
      "cell_type": "code",
      "metadata": {
        "id": "sJ5sD3dUWBM8",
        "outputId": "d74f209b-3a9a-4311-e870-49b3ccd39044"
      },
      "source": [
        "result = sum_two_numbers(100,200)\n",
        "print(result)\n",
        "if result <= 0:\n",
        "    print(\"Error\")\n",
        "else:\n",
        "    print(\"No Error\")"
      ],
      "execution_count": null,
      "outputs": [
        {
          "output_type": "stream",
          "text": [
            "300\n",
            "No Error\n"
          ],
          "name": "stdout"
        }
      ]
    },
    {
      "cell_type": "code",
      "metadata": {
        "id": "NzZxOQeKWBM8",
        "outputId": "8615d7f2-a1c0-4b7b-bcfe-315f0781896b"
      },
      "source": [
        "sum_two_numbers(100,200)"
      ],
      "execution_count": null,
      "outputs": [
        {
          "output_type": "execute_result",
          "data": {
            "text/plain": [
              "300"
            ]
          },
          "metadata": {
            "tags": []
          },
          "execution_count": 19
        }
      ]
    },
    {
      "cell_type": "code",
      "metadata": {
        "id": "aamUdBMeWBM9"
      },
      "source": [
        "# Another Example\n",
        "\n",
        "def odd_even(num):\n",
        "    \"\"\"\n",
        "    This function takes the num as argument\n",
        "    and returns if number is ODD or EVEN\n",
        "    \"\"\"\n",
        "    \n",
        "    if num%2==0:\n",
        "        return \"Provided number is EVEN\"\n",
        "    else:\n",
        "        return \"Provided number is ODD\""
      ],
      "execution_count": null,
      "outputs": []
    },
    {
      "cell_type": "code",
      "metadata": {
        "id": "xQnC_AorWBM9",
        "outputId": "2620de89-a911-4589-c95d-065845ce9b78"
      },
      "source": [
        "result = odd_even(11)\n",
        "print(result)"
      ],
      "execution_count": null,
      "outputs": [
        {
          "output_type": "stream",
          "text": [
            "Provided number is ODD\n"
          ],
          "name": "stdout"
        }
      ]
    },
    {
      "cell_type": "code",
      "metadata": {
        "id": "5LBzdnHLWBM9",
        "outputId": "de8732a8-3c9b-4d5a-8248-5f681d32d3f3"
      },
      "source": [
        "result = odd_even(100)\n",
        "print(result)"
      ],
      "execution_count": null,
      "outputs": [
        {
          "output_type": "stream",
          "text": [
            "Provided number is EVEN\n"
          ],
          "name": "stdout"
        }
      ]
    },
    {
      "cell_type": "markdown",
      "metadata": {
        "id": "xdtt5KuKWBM-"
      },
      "source": [
        "# Arbitrary Arguments, *args"
      ]
    },
    {
      "cell_type": "markdown",
      "metadata": {
        "id": "SJ9VocyQWBM-"
      },
      "source": [
        "## If you do not know how many arguments that will be passed into your function, add a * before the parameter name in the function definition.\n",
        "\n",
        "## This way the function will receive a tuple of arguments, and can access the items accordingly:"
      ]
    },
    {
      "cell_type": "code",
      "metadata": {
        "id": "YLUx-a3dWBM-"
      },
      "source": [
        "def sample_fun(*args):\n",
        "    for i in args:\n",
        "        print(i)"
      ],
      "execution_count": null,
      "outputs": []
    },
    {
      "cell_type": "code",
      "metadata": {
        "id": "ni5ajfKHWBM_",
        "outputId": "48411c59-6912-4072-a35a-44ec0960023d"
      },
      "source": [
        "sample_fun(1,2,3,4,5)"
      ],
      "execution_count": null,
      "outputs": [
        {
          "output_type": "stream",
          "text": [
            "1\n",
            "2\n",
            "3\n",
            "4\n",
            "5\n"
          ],
          "name": "stdout"
        }
      ]
    },
    {
      "cell_type": "code",
      "metadata": {
        "id": "XMO_LFbBWBM_",
        "outputId": "2675526b-17e8-47a6-9572-c14524350bd3"
      },
      "source": [
        "sample_fun(1,3)"
      ],
      "execution_count": null,
      "outputs": [
        {
          "output_type": "stream",
          "text": [
            "1\n",
            "3\n"
          ],
          "name": "stdout"
        }
      ]
    },
    {
      "cell_type": "markdown",
      "metadata": {
        "id": "4a5vaYocWBM_"
      },
      "source": [
        "# Method Overriding Example"
      ]
    },
    {
      "cell_type": "code",
      "metadata": {
        "id": "rjFrvrsqWBNA",
        "outputId": "db50e9e7-5ea0-4f05-9d26-6d1ee5cd229f"
      },
      "source": [
        "# Python program to demonstrate  \n",
        "# method overriding \n",
        "# Defining parent class \n",
        "\n",
        "class Parent(): \n",
        "      \n",
        "    # Constructor \n",
        "    def __init__(self): \n",
        "        self.value = \"Inside Parent\"\n",
        "          \n",
        "    # Parent's show method \n",
        "    def show(self): \n",
        "        print(self.value) \n",
        "          \n",
        "# Defining child class \n",
        "class Child(Parent): \n",
        "      \n",
        "    # Constructor \n",
        "    def __init__(self): \n",
        "        self.value = \"Inside Child\"\n",
        "          \n",
        "    # Child's show method \n",
        "    def show(self): \n",
        "        print(\"I am overridden Method\")\n",
        "        print(self.value) \n",
        "          \n",
        "obj1 = Parent() \n",
        "obj2 = Child() \n",
        "  \n",
        "obj1.show() \n",
        "obj2.show() "
      ],
      "execution_count": null,
      "outputs": [
        {
          "output_type": "stream",
          "text": [
            "Inside Parent\n",
            "I am overridden Method\n",
            "Inside Child\n"
          ],
          "name": "stdout"
        }
      ]
    },
    {
      "cell_type": "markdown",
      "metadata": {
        "id": "6owvZqZhWBNA"
      },
      "source": [
        "# Method Overloading Example"
      ]
    },
    {
      "cell_type": "markdown",
      "metadata": {
        "id": "j0fbueTIWBNB"
      },
      "source": [
        "## Python does not supports method overloading by default. \n",
        "## But there are different ways to achieve method overloading in Python."
      ]
    },
    {
      "cell_type": "markdown",
      "metadata": {
        "id": "PDn03yzuWBNB"
      },
      "source": [
        "## The problem with method overloading in Python is that we may overload the methods but can only use the latest defined method."
      ]
    },
    {
      "cell_type": "code",
      "metadata": {
        "id": "LdSYr1kuWBNB",
        "outputId": "10411592-d78e-4527-ac40-51aa138c222b"
      },
      "source": [
        "# First product method. \n",
        "# Takes two argument and print their product\n",
        "\n",
        "\n",
        "def product(a, b): \n",
        "    p = a * b \n",
        "    print(p) \n",
        "      \n",
        "# Second product method \n",
        "# Takes three argument and print their product \n",
        "def product(a, b, c): \n",
        "    p = a * b*c \n",
        "    print(p) \n",
        "  \n",
        "#Uncommenting the below line shows an error     \n",
        "product(4, 5) \n",
        "  \n",
        "# This line will call the second product method \n",
        "#product(4, 5, 5)"
      ],
      "execution_count": null,
      "outputs": [
        {
          "output_type": "error",
          "ename": "TypeError",
          "evalue": "product() missing 1 required positional argument: 'c'",
          "traceback": [
            "\u001b[1;31m---------------------------------------------------------------------------\u001b[0m",
            "\u001b[1;31mTypeError\u001b[0m                                 Traceback (most recent call last)",
            "\u001b[1;32m<ipython-input-21-82de19210e89>\u001b[0m in \u001b[0;36m<module>\u001b[1;34m\u001b[0m\n\u001b[0;32m     14\u001b[0m \u001b[1;33m\u001b[0m\u001b[0m\n\u001b[0;32m     15\u001b[0m \u001b[1;31m#Uncommenting the below line shows an error\u001b[0m\u001b[1;33m\u001b[0m\u001b[1;33m\u001b[0m\u001b[1;33m\u001b[0m\u001b[0m\n\u001b[1;32m---> 16\u001b[1;33m \u001b[0mproduct\u001b[0m\u001b[1;33m(\u001b[0m\u001b[1;36m4\u001b[0m\u001b[1;33m,\u001b[0m \u001b[1;36m5\u001b[0m\u001b[1;33m)\u001b[0m\u001b[1;33m\u001b[0m\u001b[1;33m\u001b[0m\u001b[0m\n\u001b[0m\u001b[0;32m     17\u001b[0m \u001b[1;33m\u001b[0m\u001b[0m\n\u001b[0;32m     18\u001b[0m \u001b[1;31m# This line will call the second product method\u001b[0m\u001b[1;33m\u001b[0m\u001b[1;33m\u001b[0m\u001b[1;33m\u001b[0m\u001b[0m\n",
            "\u001b[1;31mTypeError\u001b[0m: product() missing 1 required positional argument: 'c'"
          ]
        }
      ]
    },
    {
      "cell_type": "markdown",
      "metadata": {
        "id": "VCYB-_srWBNC"
      },
      "source": [
        "# Solution - 1"
      ]
    },
    {
      "cell_type": "code",
      "metadata": {
        "id": "V0BVYHZSWBNC",
        "outputId": "ce1f839a-a45f-4cd4-a5c2-193420a666d2"
      },
      "source": [
        "# Function to take multiple arguments\n",
        "\n",
        "def add(datatype,*args): \n",
        "  \n",
        "    print(type(args))\n",
        "    \n",
        "    # if datatype is int then initialize answer as 0 \n",
        "    if datatype =='int': \n",
        "        answer = 0\n",
        "          \n",
        "    # if datatype is str then initialize answer as '' \n",
        "    if datatype =='str': \n",
        "        answer ='' \n",
        "  \n",
        "    # Traverse through the arguments \n",
        "    for x in args: \n",
        "        # This will do addition if the arguments are in Or concatenation if the arguments are str \n",
        "        answer = answer + x \n",
        "    print(answer) \n",
        "    \n",
        "    \n",
        "    \n",
        "# Integer \n",
        "add('int', 5, 6,10,15) \n",
        "# String \n",
        "add('str', 'Hi ', 'Geeks') "
      ],
      "execution_count": null,
      "outputs": [
        {
          "output_type": "error",
          "ename": "SyntaxError",
          "evalue": "invalid syntax (<ipython-input-28-9b75d5c440ba>, line 3)",
          "traceback": [
            "\u001b[1;36m  File \u001b[1;32m\"<ipython-input-28-9b75d5c440ba>\"\u001b[1;36m, line \u001b[1;32m3\u001b[0m\n\u001b[1;33m    def add(datatype, [*args]):\u001b[0m\n\u001b[1;37m                      ^\u001b[0m\n\u001b[1;31mSyntaxError\u001b[0m\u001b[1;31m:\u001b[0m invalid syntax\n"
          ]
        }
      ]
    },
    {
      "cell_type": "markdown",
      "metadata": {
        "id": "p_I1H-UtWBNC"
      },
      "source": [
        "# Class - Example"
      ]
    },
    {
      "cell_type": "code",
      "metadata": {
        "id": "6Dd0_4o4WBND"
      },
      "source": [
        "class MyNewClass():\n",
        "    '''This is a docstring. I have created a new class'''\n",
        "    pass"
      ],
      "execution_count": null,
      "outputs": []
    },
    {
      "cell_type": "code",
      "metadata": {
        "id": "o9cliRFhWBND"
      },
      "source": [
        "obj1 = MyNewClass()"
      ],
      "execution_count": null,
      "outputs": []
    },
    {
      "cell_type": "code",
      "metadata": {
        "id": "pGzlIbZRWBND",
        "outputId": "6bbe3e27-3a4f-4748-9540-b96a5684fa37"
      },
      "source": [
        "print(obj1.__doc__)"
      ],
      "execution_count": null,
      "outputs": [
        {
          "output_type": "stream",
          "text": [
            "This is a docstring. I have created a new class\n"
          ],
          "name": "stdout"
        }
      ]
    },
    {
      "cell_type": "markdown",
      "metadata": {
        "id": "kf0h26D0WBND"
      },
      "source": [
        "# 'Self' - Example"
      ]
    },
    {
      "cell_type": "code",
      "metadata": {
        "id": "daamTVyEWBNE",
        "outputId": "7e7d3ad4-d5e2-4e8c-c562-4fcdbbee4dd7"
      },
      "source": [
        "class Person():\n",
        "    \"This is a person class\"\n",
        "    age = 10\n",
        "\n",
        "    def greet(self):\n",
        "        print('Hello')\n",
        "\n",
        "\n",
        "# create a new object of Person class\n",
        "harry = Person()\n",
        "\n",
        "harry.greet() # This is equivalent to Person.greet(harry)\n",
        "Person.greet(harry)"
      ],
      "execution_count": null,
      "outputs": [
        {
          "output_type": "stream",
          "text": [
            "Hello\n",
            "Hello\n"
          ],
          "name": "stdout"
        }
      ]
    },
    {
      "cell_type": "markdown",
      "metadata": {
        "id": "tf-c1NzeWBNE"
      },
      "source": [
        "# Constructor OR __init__() Example"
      ]
    },
    {
      "cell_type": "code",
      "metadata": {
        "id": "gRsQXaKjWBNE",
        "outputId": "55ee2b50-1bbe-41a2-f471-50c66b09e4e2"
      },
      "source": [
        "class ComplexNumber():\n",
        "    \n",
        "    def __init__(self, r=0, i=0):\n",
        "        self.real = r\n",
        "        self.imag = i\n",
        "\n",
        "    def get_data(self):\n",
        "        print(f'{self.real}+{self.imag}j')\n",
        "\n",
        "# Create a new ComplexNumber object\n",
        "num1 = ComplexNumber(2, 3)\n",
        "num1.get_data()"
      ],
      "execution_count": null,
      "outputs": [
        {
          "output_type": "stream",
          "text": [
            "2+3j\n"
          ],
          "name": "stdout"
        }
      ]
    },
    {
      "cell_type": "code",
      "metadata": {
        "id": "FtQI2YveWBNG"
      },
      "source": [
        "# Another Example\n",
        "\n",
        "class sample():\n",
        "    \n",
        "    def __init__(self):\n",
        "        print(\"New Object is created\")"
      ],
      "execution_count": null,
      "outputs": []
    },
    {
      "cell_type": "code",
      "metadata": {
        "id": "mqVENcbMWBNH",
        "outputId": "03cccb00-dacf-45ff-9051-4136f29e3a1c"
      },
      "source": [
        "t1 = sample()"
      ],
      "execution_count": null,
      "outputs": [
        {
          "output_type": "stream",
          "text": [
            "New Object is created\n"
          ],
          "name": "stdout"
        }
      ]
    },
    {
      "cell_type": "code",
      "metadata": {
        "id": "Sc4101ZpWBNH",
        "outputId": "682eb3c0-fcd6-494e-d134-288d97cd80cd"
      },
      "source": [
        "t2 = sample()"
      ],
      "execution_count": null,
      "outputs": [
        {
          "output_type": "stream",
          "text": [
            "New Object is created\n"
          ],
          "name": "stdout"
        }
      ]
    },
    {
      "cell_type": "code",
      "metadata": {
        "id": "6Jls2_U-WBNH"
      },
      "source": [
        "# One more Example\n",
        "\n",
        "class sample():\n",
        "\n",
        "    def __init__(self,name):\n",
        "        self.name = name\n",
        "        print(\"New Object is created and Now I will call UDF\")\n",
        "        self.print_name(name)\n",
        "            \n",
        "    def print_name(self,name):\n",
        "        print(\"Hello\",self.name)"
      ],
      "execution_count": null,
      "outputs": []
    },
    {
      "cell_type": "code",
      "metadata": {
        "id": "a4LbQE3-WBNH",
        "outputId": "2de34665-e7b7-482a-ee5a-d0970c25c062"
      },
      "source": [
        "t2 = sample(\"Students\")"
      ],
      "execution_count": null,
      "outputs": [
        {
          "output_type": "stream",
          "text": [
            "New Object is created and Now I will call UDF\n",
            "Hello Students\n"
          ],
          "name": "stdout"
        }
      ]
    },
    {
      "cell_type": "code",
      "metadata": {
        "id": "jy9iI9WgWBNI",
        "outputId": "670d95ff-926f-4969-fa23-92a18990927b"
      },
      "source": [
        "t3 = sample(\"Rakesh\")"
      ],
      "execution_count": null,
      "outputs": [
        {
          "output_type": "stream",
          "text": [
            "New Object is created and Now I will call UDF\n",
            "Hello Rakesh\n"
          ],
          "name": "stdout"
        }
      ]
    },
    {
      "cell_type": "code",
      "metadata": {
        "id": "vvjZf9ZsWBNI",
        "outputId": "3bc23b8f-f869-462d-e976-875651dcee2c"
      },
      "source": [
        "# Delete an object\n",
        "\n",
        "t4 = sample(\"Punit\")"
      ],
      "execution_count": null,
      "outputs": [
        {
          "output_type": "stream",
          "text": [
            "New Object is created and Now I will call UDF\n",
            "Hello Punit\n"
          ],
          "name": "stdout"
        }
      ]
    },
    {
      "cell_type": "code",
      "metadata": {
        "id": "OC_3OlQWWBNI"
      },
      "source": [
        "del t4"
      ],
      "execution_count": null,
      "outputs": []
    },
    {
      "cell_type": "code",
      "metadata": {
        "id": "tEq7GlMeWBNJ",
        "outputId": "554acd06-5a64-4db1-ac17-a5a32aa4c7d4"
      },
      "source": [
        "t4"
      ],
      "execution_count": null,
      "outputs": [
        {
          "output_type": "error",
          "ename": "NameError",
          "evalue": "name 't4' is not defined",
          "traceback": [
            "\u001b[1;31m---------------------------------------------------------------------------\u001b[0m",
            "\u001b[1;31mNameError\u001b[0m                                 Traceback (most recent call last)",
            "\u001b[1;32m<ipython-input-75-7e8198522aa2>\u001b[0m in \u001b[0;36m<module>\u001b[1;34m\u001b[0m\n\u001b[1;32m----> 1\u001b[1;33m \u001b[0mt4\u001b[0m\u001b[1;33m\u001b[0m\u001b[1;33m\u001b[0m\u001b[0m\n\u001b[0m",
            "\u001b[1;31mNameError\u001b[0m: name 't4' is not defined"
          ]
        }
      ]
    },
    {
      "cell_type": "markdown",
      "metadata": {
        "id": "zHbq2FblWBNJ"
      },
      "source": [
        "# Type Conversion Example"
      ]
    },
    {
      "cell_type": "markdown",
      "metadata": {
        "id": "OIWOujNrWBNJ"
      },
      "source": [
        "## Implicit Type Conversion Example"
      ]
    },
    {
      "cell_type": "markdown",
      "metadata": {
        "id": "Z22D3YJJWBNJ"
      },
      "source": [
        "Let's see an example where Python promotes the conversion of the lower data type (integer) to the higher data type (float)\n",
        "to avoid data loss."
      ]
    },
    {
      "cell_type": "code",
      "metadata": {
        "id": "5fT8ZHQwWBNK",
        "outputId": "5dea9d97-158d-43d2-d06e-fd36b4e0c716"
      },
      "source": [
        "num_int = 123\n",
        "num_flo = 1.23\n",
        "\n",
        "num_new = num_int + num_flo\n",
        "\n",
        "print(\"datatype of num_int:\",type(num_int))\n",
        "print(\"datatype of num_flo:\",type(num_flo))\n",
        "\n",
        "print(\"Value of num_new:\",num_new)\n",
        "print(\"datatype of num_new:\",type(num_new))"
      ],
      "execution_count": null,
      "outputs": [
        {
          "output_type": "stream",
          "text": [
            "datatype of num_int: <class 'int'>\n",
            "datatype of num_flo: <class 'float'>\n",
            "Value of num_new: 124.23\n",
            "datatype of num_new: <class 'float'>\n"
          ],
          "name": "stdout"
        }
      ]
    },
    {
      "cell_type": "code",
      "metadata": {
        "id": "u2bw0vvBWBNK",
        "outputId": "d2ba7213-663c-428e-c4ec-8fffe608450b"
      },
      "source": [
        "#Addition of string(higher) data type and integer(lower) datatype\n",
        "\n",
        "num_int = 123\n",
        "num_str = \"456\"\n",
        "\n",
        "print(\"Data type of num_int:\",type(num_int))\n",
        "print(\"Data type of num_str:\",type(num_str))\n",
        "\n",
        "print(num_int+num_str)"
      ],
      "execution_count": null,
      "outputs": [
        {
          "output_type": "stream",
          "text": [
            "Data type of num_int: <class 'int'>\n",
            "Data type of num_str: <class 'str'>\n"
          ],
          "name": "stdout"
        },
        {
          "output_type": "error",
          "ename": "TypeError",
          "evalue": "unsupported operand type(s) for +: 'int' and 'str'",
          "traceback": [
            "\u001b[1;31m---------------------------------------------------------------------------\u001b[0m",
            "\u001b[1;31mTypeError\u001b[0m                                 Traceback (most recent call last)",
            "\u001b[1;32m<ipython-input-78-e4e801a785a8>\u001b[0m in \u001b[0;36m<module>\u001b[1;34m\u001b[0m\n\u001b[0;32m      7\u001b[0m \u001b[0mprint\u001b[0m\u001b[1;33m(\u001b[0m\u001b[1;34m\"Data type of num_str:\"\u001b[0m\u001b[1;33m,\u001b[0m\u001b[0mtype\u001b[0m\u001b[1;33m(\u001b[0m\u001b[0mnum_str\u001b[0m\u001b[1;33m)\u001b[0m\u001b[1;33m)\u001b[0m\u001b[1;33m\u001b[0m\u001b[1;33m\u001b[0m\u001b[0m\n\u001b[0;32m      8\u001b[0m \u001b[1;33m\u001b[0m\u001b[0m\n\u001b[1;32m----> 9\u001b[1;33m \u001b[0mprint\u001b[0m\u001b[1;33m(\u001b[0m\u001b[0mnum_int\u001b[0m\u001b[1;33m+\u001b[0m\u001b[0mnum_str\u001b[0m\u001b[1;33m)\u001b[0m\u001b[1;33m\u001b[0m\u001b[1;33m\u001b[0m\u001b[0m\n\u001b[0m",
            "\u001b[1;31mTypeError\u001b[0m: unsupported operand type(s) for +: 'int' and 'str'"
          ]
        }
      ]
    },
    {
      "cell_type": "markdown",
      "metadata": {
        "id": "Lj3nET2eWBNK"
      },
      "source": [
        "# Explicit Type Conversion Example"
      ]
    },
    {
      "cell_type": "markdown",
      "metadata": {
        "id": "Mb2ZTnQyWBNK"
      },
      "source": [
        "Syntax :- <required_datatype>(expression)"
      ]
    },
    {
      "cell_type": "code",
      "metadata": {
        "id": "UbagtjE4WBNL",
        "outputId": "8a5a958b-d63d-440a-ae8a-46133d1c4ab5"
      },
      "source": [
        "num_int = 123\n",
        "num_str = \"456\"\n",
        "\n",
        "print(\"Data type of num_int:\",type(num_int))\n",
        "print(\"Data type of num_str before Type Casting:\",type(num_str))\n",
        "\n",
        "num_str = int(num_str)\n",
        "print(\"Data type of num_str after Type Casting:\",type(num_str))\n",
        "\n",
        "num_sum = num_int + num_str\n",
        "\n",
        "print(\"Sum of num_int and num_str:\",num_sum)\n",
        "print(\"Data type of the sum:\",type(num_sum))"
      ],
      "execution_count": null,
      "outputs": [
        {
          "output_type": "stream",
          "text": [
            "Data type of num_int: <class 'int'>\n",
            "Data type of num_str before Type Casting: <class 'str'>\n",
            "Data type of num_str after Type Casting: <class 'int'>\n",
            "Sum of num_int and num_str: 579\n",
            "Data type of the sum: <class 'int'>\n"
          ],
          "name": "stdout"
        }
      ]
    },
    {
      "cell_type": "code",
      "metadata": {
        "id": "O6qPK2Z1WBNL",
        "outputId": "1555ab8b-131a-4a18-fbaf-29955036748d"
      },
      "source": [
        "# Another Exmaple with Complex Datatype\n",
        "\n",
        "my_list = [10, 20, 30, 40, 50]\n",
        "my_set = {10, 10, 20, 30, 20, 50, 20}\n",
        "\n",
        "print('From list to tuple: ' + str(tuple(my_list)))\n",
        "print('From list to set: ' + str(set(my_list)))\n",
        "print('From set to list: ' + str(list(my_set)))"
      ],
      "execution_count": null,
      "outputs": [
        {
          "output_type": "stream",
          "text": [
            "From list to tuple: (10, 20, 30, 40, 50)\n",
            "From list to set: {40, 10, 50, 20, 30}\n",
            "From set to list: [10, 20, 50, 30]\n"
          ],
          "name": "stdout"
        }
      ]
    },
    {
      "cell_type": "markdown",
      "metadata": {
        "id": "0UknyK-tWBNL"
      },
      "source": [
        "# Module - Example"
      ]
    },
    {
      "cell_type": "code",
      "metadata": {
        "id": "tw1ha_WpWBNL",
        "outputId": "80f561a3-9049-400c-8dce-9360765b9f40"
      },
      "source": [
        "# This is the way we import Module in Python\n",
        "import Example\n",
        "\n",
        "Example.add(5,5)"
      ],
      "execution_count": null,
      "outputs": [
        {
          "output_type": "execute_result",
          "data": {
            "text/plain": [
              "10"
            ]
          },
          "metadata": {
            "tags": []
          },
          "execution_count": 83
        }
      ]
    },
    {
      "cell_type": "code",
      "metadata": {
        "id": "Vt1s3xTpWBNM",
        "outputId": "7c66b1a7-3fd5-4b78-f6cf-e06c2591ebee"
      },
      "source": [
        "# Another way to import with rename\n",
        "\n",
        "import Example as ex\n",
        "\n",
        "ex.add(10,10)"
      ],
      "execution_count": null,
      "outputs": [
        {
          "output_type": "execute_result",
          "data": {
            "text/plain": [
              "20"
            ]
          },
          "metadata": {
            "tags": []
          },
          "execution_count": 84
        }
      ]
    },
    {
      "cell_type": "code",
      "metadata": {
        "id": "CV9pOh4pWBNM",
        "outputId": "a24060f5-66be-4efd-fec9-d3695a0cd90a"
      },
      "source": [
        "from Example import add\n",
        "\n",
        "add(20,20)"
      ],
      "execution_count": null,
      "outputs": [
        {
          "output_type": "execute_result",
          "data": {
            "text/plain": [
              "40"
            ]
          },
          "metadata": {
            "tags": []
          },
          "execution_count": 85
        }
      ]
    },
    {
      "cell_type": "markdown",
      "metadata": {
        "id": "DzQfI8f3WBNM"
      },
      "source": [
        "# Exception Handling Example"
      ]
    },
    {
      "cell_type": "markdown",
      "metadata": {
        "id": "05k1ipvKWBNM"
      },
      "source": [
        "## Try - Catch Example"
      ]
    },
    {
      "cell_type": "code",
      "metadata": {
        "id": "0H_aGBAhWBNN",
        "outputId": "a8df7e4b-b188-48f8-eef8-45886c8da6d3"
      },
      "source": [
        "# import module sys to get the type of exception\n",
        "import sys\n",
        "\n",
        "randomList = ['a', 0, 2]\n",
        "\n",
        "for entry in randomList:\n",
        "    try:\n",
        "        print(\"The entry is\", entry)\n",
        "        r = 1/int(entry)\n",
        "    except:\n",
        "        print(\"Oops!\", sys.exc_info()[0], \"occurred.\")\n",
        "        print(\"Next entry.\")\n",
        "        print()\n",
        "print(\"The reciprocal of\", entry, \"is\", r)"
      ],
      "execution_count": null,
      "outputs": [
        {
          "output_type": "stream",
          "text": [
            "The entry is a\n",
            "Oops! <class 'ValueError'> occurred.\n",
            "Next entry.\n",
            "\n",
            "The entry is 0\n",
            "Oops! <class 'ZeroDivisionError'> occurred.\n",
            "Next entry.\n",
            "\n",
            "The entry is 2\n",
            "The reciprocal of 2 is 0.5\n"
          ],
          "name": "stdout"
        }
      ]
    },
    {
      "cell_type": "code",
      "metadata": {
        "id": "soxs2yMaWBNN",
        "outputId": "01d67d4f-dafd-4f12-870b-004b1c7c7b70"
      },
      "source": [
        "# Another Example \n",
        "\n",
        "try:\n",
        "    a = int(input(\"Enter a positive integer: \"))\n",
        "    if a <= 0:\n",
        "        raise ValueError(\"That is not a positive number!\")\n",
        "except ValueError as ve:\n",
        "    print(ve)"
      ],
      "execution_count": null,
      "outputs": [
        {
          "output_type": "stream",
          "text": [
            "Enter a positive integer: -1\n",
            "That is not a positive number!\n"
          ],
          "name": "stdout"
        }
      ]
    },
    {
      "cell_type": "code",
      "metadata": {
        "id": "vcQH2RtZWBNN",
        "outputId": "11ee5f90-dbaf-4b73-c679-9d59c3cfa708"
      },
      "source": [
        "raise KeyboardInterrupt"
      ],
      "execution_count": null,
      "outputs": [
        {
          "output_type": "error",
          "ename": "KeyboardInterrupt",
          "evalue": "",
          "traceback": [
            "\u001b[1;31m---------------------------------------------------------------------------\u001b[0m",
            "\u001b[1;31mKeyboardInterrupt\u001b[0m                         Traceback (most recent call last)",
            "\u001b[1;32m<ipython-input-6-c761920b81b0>\u001b[0m in \u001b[0;36m<module>\u001b[1;34m\u001b[0m\n\u001b[1;32m----> 1\u001b[1;33m \u001b[1;32mraise\u001b[0m \u001b[0mKeyboardInterrupt\u001b[0m\u001b[1;33m\u001b[0m\u001b[1;33m\u001b[0m\u001b[0m\n\u001b[0m",
            "\u001b[1;31mKeyboardInterrupt\u001b[0m: "
          ]
        }
      ]
    },
    {
      "cell_type": "code",
      "metadata": {
        "id": "L-WhYH7sWBNN",
        "outputId": "d9cdf7e3-653c-45c7-86f2-098fb6af41f7"
      },
      "source": [
        "raise MemoryError(\"This is urgent\")"
      ],
      "execution_count": null,
      "outputs": [
        {
          "output_type": "error",
          "ename": "MemoryError",
          "evalue": "This is urgent",
          "traceback": [
            "\u001b[1;31m---------------------------------------------------------------------------\u001b[0m",
            "\u001b[1;31mMemoryError\u001b[0m                               Traceback (most recent call last)",
            "\u001b[1;32m<ipython-input-7-1b867d1bbc7f>\u001b[0m in \u001b[0;36m<module>\u001b[1;34m\u001b[0m\n\u001b[1;32m----> 1\u001b[1;33m \u001b[1;32mraise\u001b[0m \u001b[0mMemoryError\u001b[0m\u001b[1;33m(\u001b[0m\u001b[1;34m\"This is urgent\"\u001b[0m\u001b[1;33m)\u001b[0m\u001b[1;33m\u001b[0m\u001b[1;33m\u001b[0m\u001b[0m\n\u001b[0m",
            "\u001b[1;31mMemoryError\u001b[0m: This is urgent"
          ]
        }
      ]
    },
    {
      "cell_type": "markdown",
      "metadata": {
        "id": "TADPwSN-WBNO"
      },
      "source": [
        "# Finally Example"
      ]
    },
    {
      "cell_type": "code",
      "metadata": {
        "id": "z249NXgtWBNO",
        "outputId": "37e86c40-e34d-4b93-a54e-4bdb41c64129"
      },
      "source": [
        "try:\n",
        "    f = open(\"test.txt\",encoding = 'utf-8')\n",
        "except FileNotFoundError as FE:\n",
        "    print(FE.strerror)\n",
        "except ZeroDivisionError as ZE:\n",
        "    print(ZE.strerror)\n",
        "finally:\n",
        "    print(\"I am in Finally Clause\")"
      ],
      "execution_count": null,
      "outputs": [
        {
          "output_type": "stream",
          "text": [
            "No such file or directory\n",
            "I am in Finally Clause\n"
          ],
          "name": "stdout"
        }
      ]
    },
    {
      "cell_type": "code",
      "metadata": {
        "id": "xg-NmOnPWBNO"
      },
      "source": [
        ""
      ],
      "execution_count": null,
      "outputs": []
    },
    {
      "cell_type": "markdown",
      "metadata": {
        "id": "GLDAyFx7WBNO"
      },
      "source": [
        "# File Handling Example"
      ]
    },
    {
      "cell_type": "markdown",
      "metadata": {
        "id": "5Fgd-JSTWBNP"
      },
      "source": [
        "## File Reading Example"
      ]
    },
    {
      "cell_type": "code",
      "metadata": {
        "id": "FPqeuZwEWBNP",
        "outputId": "968c942e-9fb8-41c2-856d-3a74f855c4fe"
      },
      "source": [
        "# Open file with Mode\n",
        "\n",
        "# a file named \"geek\", will be opened with the reading mode. \n",
        "file = open('sample.txt',\"r\") \n",
        "\n",
        "# This will print every line one by one in the file \n",
        "for line in file: \n",
        "    print(line)"
      ],
      "execution_count": null,
      "outputs": [
        {
          "output_type": "stream",
          "text": [
            "Welcome to class\n",
            "\n",
            "This is demo file\n"
          ],
          "name": "stdout"
        }
      ]
    },
    {
      "cell_type": "code",
      "metadata": {
        "id": "judytjFFWBNP",
        "outputId": "f49ba5c9-8d1d-41f2-97c4-125777c1c2cf"
      },
      "source": [
        "# There is more than one way to read a file in Python. \n",
        "# If you need to extract a string that contains all characters in the file then we can use file.read(). \n",
        "\n",
        "# Python code to illustrate read() mode \n",
        "file = open(\"sample.txt\", \"r\")  \n",
        "print(file.read())"
      ],
      "execution_count": null,
      "outputs": [
        {
          "output_type": "stream",
          "text": [
            "Welcome to class\n",
            "This is demo file\n"
          ],
          "name": "stdout"
        }
      ]
    },
    {
      "cell_type": "code",
      "metadata": {
        "id": "onM03Y7TWBNP",
        "outputId": "ffffd6c2-da91-4395-f446-59cf07c72843"
      },
      "source": [
        "# Read contents in list\n",
        "\n",
        "file = open(\"sample.txt\",\"r\")\n",
        "lines = file.readlines()\n",
        "\n",
        "print(lines)\n",
        "type(lines)"
      ],
      "execution_count": null,
      "outputs": [
        {
          "output_type": "stream",
          "text": [
            "['Welcome to class\\n', 'This is demo file']\n"
          ],
          "name": "stdout"
        },
        {
          "output_type": "execute_result",
          "data": {
            "text/plain": [
              "list"
            ]
          },
          "metadata": {
            "tags": []
          },
          "execution_count": 105
        }
      ]
    },
    {
      "cell_type": "code",
      "metadata": {
        "id": "kQ1dLjNJWBNQ",
        "outputId": "4254f660-60f8-449d-baca-109288e2d5e0"
      },
      "source": [
        "# Python code to illustrate read() mode character wise\n",
        "# Read only certain number of characters\n",
        "\n",
        "file = open(\"sample-1.txt\", \"r\") \n",
        "print(file.read(5))"
      ],
      "execution_count": null,
      "outputs": [
        {
          "output_type": "error",
          "ename": "FileNotFoundError",
          "evalue": "[Errno 2] No such file or directory: 'sample-1.txt'",
          "traceback": [
            "\u001b[1;31m---------------------------------------------------------------------------\u001b[0m",
            "\u001b[1;31mFileNotFoundError\u001b[0m                         Traceback (most recent call last)",
            "\u001b[1;32m<ipython-input-41-0ca5eb2da44f>\u001b[0m in \u001b[0;36m<module>\u001b[1;34m\u001b[0m\n\u001b[0;32m      2\u001b[0m \u001b[1;31m# Read only certain number of characters\u001b[0m\u001b[1;33m\u001b[0m\u001b[1;33m\u001b[0m\u001b[1;33m\u001b[0m\u001b[0m\n\u001b[0;32m      3\u001b[0m \u001b[1;33m\u001b[0m\u001b[0m\n\u001b[1;32m----> 4\u001b[1;33m \u001b[0mfile\u001b[0m \u001b[1;33m=\u001b[0m \u001b[0mopen\u001b[0m\u001b[1;33m(\u001b[0m\u001b[1;34m\"sample-1.txt\"\u001b[0m\u001b[1;33m,\u001b[0m \u001b[1;34m\"r\"\u001b[0m\u001b[1;33m)\u001b[0m\u001b[1;33m\u001b[0m\u001b[1;33m\u001b[0m\u001b[0m\n\u001b[0m\u001b[0;32m      5\u001b[0m \u001b[0mprint\u001b[0m\u001b[1;33m(\u001b[0m\u001b[0mfile\u001b[0m\u001b[1;33m.\u001b[0m\u001b[0mread\u001b[0m\u001b[1;33m(\u001b[0m\u001b[1;36m5\u001b[0m\u001b[1;33m)\u001b[0m\u001b[1;33m)\u001b[0m\u001b[1;33m\u001b[0m\u001b[1;33m\u001b[0m\u001b[0m\n",
            "\u001b[1;31mFileNotFoundError\u001b[0m: [Errno 2] No such file or directory: 'sample-1.txt'"
          ]
        }
      ]
    },
    {
      "cell_type": "markdown",
      "metadata": {
        "id": "jyNeXefSWBNQ"
      },
      "source": [
        "## File creating Example"
      ]
    },
    {
      "cell_type": "code",
      "metadata": {
        "id": "UMaFz9pxWBNQ"
      },
      "source": [
        "# Lets see how to create file\n",
        "\n",
        "file = open('sample-1.txt','w') \n",
        "\n",
        "file.write(\"This is the write command\") \n",
        "file.write(\"It allows us to write in a particular file\")\n",
        "\n",
        "file.close()"
      ],
      "execution_count": null,
      "outputs": []
    },
    {
      "cell_type": "code",
      "metadata": {
        "id": "IBIT0f8lWBNQ"
      },
      "source": [
        "# Python code to illustrate append() mode \n",
        "\n",
        "file = open('geek.txt','a') \n",
        "file.write(\"This will add this line\") \n",
        "file.close() "
      ],
      "execution_count": null,
      "outputs": []
    },
    {
      "cell_type": "markdown",
      "metadata": {
        "id": "tWoQejsYWBNQ"
      },
      "source": [
        "# WITH Example"
      ]
    },
    {
      "cell_type": "code",
      "metadata": {
        "id": "fmBTa_WgWBNR",
        "outputId": "826163f0-04a1-4a8b-8f08-ad21904cb9f9"
      },
      "source": [
        "# Python code to illustrate with() \n",
        "\n",
        "with open(\"sample.txt\") as file:   \n",
        "    data = file.read()\n",
        "    # do something with data \n",
        "    print(data.upper())"
      ],
      "execution_count": null,
      "outputs": [
        {
          "output_type": "stream",
          "text": [
            "WELCOME TO CLASS\n",
            "THIS IS DEMO FILE\n"
          ],
          "name": "stdout"
        }
      ]
    },
    {
      "cell_type": "code",
      "metadata": {
        "id": "icSGMEhAWBNR",
        "outputId": "213821f5-797c-4027-82be-c67f3de2c21f"
      },
      "source": [
        "# Python code to illustrate split() function \n",
        "\n",
        "with open(\"sample.txt\", \"r\") as file: \n",
        "    data = file.readlines() \n",
        "    for line in data:\n",
        "        word = line.split() \n",
        "        print(word)"
      ],
      "execution_count": null,
      "outputs": [
        {
          "output_type": "stream",
          "text": [
            "['Welcome', 'to', 'class']\n",
            "['This', 'is', 'demo', 'file']\n"
          ],
          "name": "stdout"
        }
      ]
    },
    {
      "cell_type": "code",
      "metadata": {
        "id": "6ZxlmZWiWBNR"
      },
      "source": [
        ""
      ],
      "execution_count": null,
      "outputs": []
    }
  ]
}